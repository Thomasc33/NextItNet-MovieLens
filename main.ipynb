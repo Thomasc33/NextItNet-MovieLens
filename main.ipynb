{
 "cells": [
  {
   "attachments": {},
   "cell_type": "markdown",
   "metadata": {},
   "source": [
    "# Import Libraries"
   ]
  },
  {
   "cell_type": "code",
   "execution_count": 1,
   "metadata": {},
   "outputs": [],
   "source": [
    "import numpy as np\n",
    "import pandas as pd\n",
    "import torch\n",
    "import torch.nn as nn\n",
    "import torch.optim as optim\n",
    "from torch.utils.data import DataLoader, Dataset\n",
    "from torch.optim.lr_scheduler import ReduceLROnPlateau\n",
    "from sklearn.model_selection import train_test_split\n",
    "import matplotlib.pyplot as plt\n",
    "from tqdm import tqdm\n",
    "import random\n",
    "\n",
    "random.seed(42)\n",
    "np.random.seed(42)"
   ]
  },
  {
   "attachments": {},
   "cell_type": "markdown",
   "metadata": {},
   "source": [
    "# Load and Process Data"
   ]
  },
  {
   "cell_type": "code",
   "execution_count": 2,
   "metadata": {},
   "outputs": [],
   "source": [
    "# Load MovieLens dataset\n",
    "data_path = 'ml-100k/u.data'\n",
    "column_names = ['user_id', 'item_id', 'rating', 'timestamp']\n",
    "data = pd.read_csv(data_path, sep='\\t', names=column_names)"
   ]
  },
  {
   "cell_type": "code",
   "execution_count": 3,
   "metadata": {},
   "outputs": [],
   "source": [
    "# Preprocess the dataset\n",
    "user_ids = data['user_id'].unique()\n",
    "item_ids = data['item_id'].unique()\n",
    "uid2idx = {uid: idx for idx, uid in enumerate(user_ids)}\n",
    "iid2idx = {iid: idx for idx, iid in enumerate(item_ids)}\n",
    "data['user_id'] = data['user_id'].map(uid2idx)\n",
    "data['item_id'] = data['item_id'].map(iid2idx)"
   ]
  },
  {
   "cell_type": "code",
   "execution_count": 4,
   "metadata": {},
   "outputs": [],
   "source": [
    "train_data, test_data = train_test_split(data, test_size=0.2, random_state=42)"
   ]
  },
  {
   "attachments": {},
   "cell_type": "markdown",
   "metadata": {},
   "source": [
    "# Visualize Data"
   ]
  },
  {
   "cell_type": "code",
   "execution_count": 5,
   "metadata": {},
   "outputs": [
    {
     "data": {
      "text/html": [
       "<div>\n",
       "<style scoped>\n",
       "    .dataframe tbody tr th:only-of-type {\n",
       "        vertical-align: middle;\n",
       "    }\n",
       "\n",
       "    .dataframe tbody tr th {\n",
       "        vertical-align: top;\n",
       "    }\n",
       "\n",
       "    .dataframe thead th {\n",
       "        text-align: right;\n",
       "    }\n",
       "</style>\n",
       "<table border=\"1\" class=\"dataframe\">\n",
       "  <thead>\n",
       "    <tr style=\"text-align: right;\">\n",
       "      <th></th>\n",
       "      <th>user_id</th>\n",
       "      <th>item_id</th>\n",
       "      <th>rating</th>\n",
       "      <th>timestamp</th>\n",
       "    </tr>\n",
       "  </thead>\n",
       "  <tbody>\n",
       "    <tr>\n",
       "      <th>0</th>\n",
       "      <td>0</td>\n",
       "      <td>0</td>\n",
       "      <td>3</td>\n",
       "      <td>881250949</td>\n",
       "    </tr>\n",
       "    <tr>\n",
       "      <th>1</th>\n",
       "      <td>1</td>\n",
       "      <td>1</td>\n",
       "      <td>3</td>\n",
       "      <td>891717742</td>\n",
       "    </tr>\n",
       "    <tr>\n",
       "      <th>2</th>\n",
       "      <td>2</td>\n",
       "      <td>2</td>\n",
       "      <td>1</td>\n",
       "      <td>878887116</td>\n",
       "    </tr>\n",
       "    <tr>\n",
       "      <th>3</th>\n",
       "      <td>3</td>\n",
       "      <td>3</td>\n",
       "      <td>2</td>\n",
       "      <td>880606923</td>\n",
       "    </tr>\n",
       "    <tr>\n",
       "      <th>4</th>\n",
       "      <td>4</td>\n",
       "      <td>4</td>\n",
       "      <td>1</td>\n",
       "      <td>886397596</td>\n",
       "    </tr>\n",
       "  </tbody>\n",
       "</table>\n",
       "</div>"
      ],
      "text/plain": [
       "   user_id  item_id  rating  timestamp\n",
       "0        0        0       3  881250949\n",
       "1        1        1       3  891717742\n",
       "2        2        2       1  878887116\n",
       "3        3        3       2  880606923\n",
       "4        4        4       1  886397596"
      ]
     },
     "execution_count": 5,
     "metadata": {},
     "output_type": "execute_result"
    }
   ],
   "source": [
    "data.head()"
   ]
  },
  {
   "cell_type": "code",
   "execution_count": 6,
   "metadata": {},
   "outputs": [
    {
     "name": "stdout",
     "output_type": "stream",
     "text": [
      "Number of users:  943\n",
      "Number of items:  1682\n",
      "Number of interactions:  100000\n",
      "Average rating:  3.52986\n",
      "Start Date:  1997-09-20 03:05:10\n",
      "End Date:  1998-04-22 23:10:38\n"
     ]
    }
   ],
   "source": [
    "print('Number of users: ', len(user_ids))\n",
    "print('Number of items: ', len(item_ids))\n",
    "print('Number of interactions: ', len(data))\n",
    "print('Average rating: ', data['rating'].mean())\n",
    "print('Start Date: ', pd.to_datetime(data['timestamp'].min(), unit='s'))\n",
    "print('End Date: ', pd.to_datetime(data['timestamp'].max(), unit='s'))"
   ]
  },
  {
   "attachments": {},
   "cell_type": "markdown",
   "metadata": {},
   "source": [
    "# Create Movie Lens Dataset"
   ]
  },
  {
   "cell_type": "code",
   "execution_count": 7,
   "metadata": {},
   "outputs": [],
   "source": [
    "class MovieLensDataset(Dataset):\n",
    "    def __init__(self, data):\n",
    "        self.data = data\n",
    "\n",
    "    def __len__(self):\n",
    "        return len(self.data)\n",
    "\n",
    "    def __getitem__(self, idx):\n",
    "        row = self.data.iloc[idx]\n",
    "        return row['user_id'], row['item_id'], row['rating']"
   ]
  },
  {
   "attachments": {},
   "cell_type": "markdown",
   "metadata": {},
   "source": [
    "# Create NextItNet Model"
   ]
  },
  {
   "cell_type": "code",
   "execution_count": 8,
   "metadata": {},
   "outputs": [],
   "source": [
    "class NextItNet(nn.Module):\n",
    "    def __init__(self, num_users, num_items, emb_dim, dilation_rates, dropout_rate=0.5):\n",
    "        super(NextItNet, self).__init__()\n",
    "        self.user_emb = nn.Embedding(num_users, emb_dim)\n",
    "        self.item_emb = nn.Embedding(num_items, emb_dim)\n",
    "        self.blocks = nn.ModuleList()\n",
    "        self.dropout = nn.Dropout(dropout_rate)\n",
    "        \n",
    "        for rate in dilation_rates:\n",
    "            self.blocks.append(\n",
    "                nn.Sequential(\n",
    "                    nn.Conv1d(emb_dim, emb_dim, kernel_size=3, padding=rate, dilation=rate),\n",
    "                    nn.ReLU(),\n",
    "                    nn.BatchNorm1d(emb_dim),\n",
    "                    nn.Dropout(dropout_rate),\n",
    "                )\n",
    "            )\n",
    "        self.fc = nn.Linear(emb_dim, 1)\n",
    "\n",
    "    def forward(self, user_ids, item_ids):\n",
    "        user_emb = self.user_emb(user_ids)\n",
    "        item_emb = self.item_emb(item_ids)\n",
    "        x = (user_emb * item_emb).unsqueeze(2)\n",
    "        x = self.dropout(x)\n",
    "        for block in self.blocks:\n",
    "            x = block(x)\n",
    "        x = x.squeeze(2)\n",
    "        x = self.fc(x)\n",
    "        return x.squeeze(1)\n"
   ]
  },
  {
   "attachments": {},
   "cell_type": "markdown",
   "metadata": {},
   "source": [
    "# Initiate Model"
   ]
  },
  {
   "cell_type": "code",
   "execution_count": 9,
   "metadata": {},
   "outputs": [],
   "source": [
    "# Hyperparameters\n",
    "emb_dim = 32\n",
    "dilation_rates = [1, 2, 4]\n",
    "num_epochs = 50\n",
    "batch_size = 128\n",
    "learning_rate = 0.001\n",
    "weight_decay = 1e-4"
   ]
  },
  {
   "cell_type": "code",
   "execution_count": 10,
   "metadata": {},
   "outputs": [],
   "source": [
    "# Create the model\n",
    "device = torch.device('cuda' if torch.cuda.is_available() else 'cpu')\n",
    "model = NextItNet(len(user_ids), len(item_ids), emb_dim, dilation_rates).to(device)"
   ]
  },
  {
   "cell_type": "code",
   "execution_count": 11,
   "metadata": {},
   "outputs": [],
   "source": [
    "# Prepare the data\n",
    "train_dataset = MovieLensDataset(train_data)\n",
    "test_dataset = MovieLensDataset(test_data)\n",
    "train_loader = DataLoader(train_dataset, batch_size=batch_size, shuffle=True)\n",
    "test_loader = DataLoader(test_dataset, batch_size=batch_size)"
   ]
  },
  {
   "cell_type": "code",
   "execution_count": 12,
   "metadata": {},
   "outputs": [],
   "source": [
    "# Set up the loss and optimizer\n",
    "criterion = nn.MSELoss()\n",
    "optimizer = optim.Adam(model.parameters(), lr=learning_rate, weight_decay=weight_decay)"
   ]
  },
  {
   "cell_type": "code",
   "execution_count": 13,
   "metadata": {},
   "outputs": [],
   "source": [
    "# Set up the scheduler\n",
    "scheduler = ReduceLROnPlateau(optimizer, mode='min', factor=0.1, patience=5, verbose=True)\n",
    "\n",
    "# Early stopping settings\n",
    "early_stopping_patience = 10\n",
    "epochs_without_improvement = 0\n",
    "best_test_loss = float('inf')"
   ]
  },
  {
   "attachments": {},
   "cell_type": "markdown",
   "metadata": {},
   "source": [
    "# Train Model"
   ]
  },
  {
   "cell_type": "code",
   "execution_count": 14,
   "metadata": {},
   "outputs": [
    {
     "name": "stderr",
     "output_type": "stream",
     "text": [
      "Epoch:   0%|          | 0/50 [00:00<?, ?it/s]"
     ]
    },
    {
     "name": "stdout",
     "output_type": "stream",
     "text": [
      "Epoch 1/50, Training Loss: 5.96254571018219\n"
     ]
    },
    {
     "name": "stderr",
     "output_type": "stream",
     "text": [
      "Epoch:   2%|▏         | 1/50 [00:10<08:32, 10.46s/it]"
     ]
    },
    {
     "name": "stdout",
     "output_type": "stream",
     "text": [
      "Epoch 1/50, Test Loss: 1.3544334264317894\n",
      "Epoch 2/50, Training Loss: 1.956990308189392\n"
     ]
    },
    {
     "name": "stderr",
     "output_type": "stream",
     "text": [
      "Epoch:   4%|▍         | 2/50 [00:17<06:52,  8.60s/it]"
     ]
    },
    {
     "name": "stdout",
     "output_type": "stream",
     "text": [
      "Epoch 2/50, Test Loss: 1.2957556885518846\n",
      "Epoch 3/50, Training Loss: 1.6739486103057861\n"
     ]
    },
    {
     "name": "stderr",
     "output_type": "stream",
     "text": [
      "Epoch:   6%|▌         | 3/50 [00:25<06:19,  8.07s/it]"
     ]
    },
    {
     "name": "stdout",
     "output_type": "stream",
     "text": [
      "Epoch 3/50, Test Loss: 1.2765855174155751\n",
      "Epoch 4/50, Training Loss: 1.5922717012405396\n"
     ]
    },
    {
     "name": "stderr",
     "output_type": "stream",
     "text": [
      "Epoch:   8%|▊         | 4/50 [00:32<05:59,  7.83s/it]"
     ]
    },
    {
     "name": "stdout",
     "output_type": "stream",
     "text": [
      "Epoch 4/50, Test Loss: 1.271760428787037\n",
      "Epoch 5/50, Training Loss: 1.5320284608840942\n"
     ]
    },
    {
     "name": "stderr",
     "output_type": "stream",
     "text": [
      "Epoch:  10%|█         | 5/50 [00:40<05:48,  7.74s/it]"
     ]
    },
    {
     "name": "stdout",
     "output_type": "stream",
     "text": [
      "Epoch 5/50, Test Loss: 1.2700941741086875\n",
      "Epoch 6/50, Training Loss: 1.5024163673400879\n"
     ]
    },
    {
     "name": "stderr",
     "output_type": "stream",
     "text": [
      "Epoch:  12%|█▏        | 6/50 [00:47<05:37,  7.67s/it]"
     ]
    },
    {
     "name": "stdout",
     "output_type": "stream",
     "text": [
      "Epoch 6/50, Test Loss: 1.2725953425571417\n",
      "Epoch 7/50, Training Loss: 1.460926647758484\n"
     ]
    },
    {
     "name": "stderr",
     "output_type": "stream",
     "text": [
      "Epoch:  14%|█▍        | 7/50 [00:55<05:29,  7.65s/it]"
     ]
    },
    {
     "name": "stdout",
     "output_type": "stream",
     "text": [
      "Epoch 7/50, Test Loss: 1.2776690562059925\n",
      "Epoch 8/50, Training Loss: 1.4318343627929688\n"
     ]
    },
    {
     "name": "stderr",
     "output_type": "stream",
     "text": [
      "Epoch:  16%|█▌        | 8/50 [01:03<05:21,  7.65s/it]"
     ]
    },
    {
     "name": "stdout",
     "output_type": "stream",
     "text": [
      "Epoch 8/50, Test Loss: 1.2595353768130018\n",
      "Epoch 9/50, Training Loss: 1.3847131777763366\n"
     ]
    },
    {
     "name": "stderr",
     "output_type": "stream",
     "text": [
      "Epoch:  18%|█▊        | 9/50 [01:10<05:13,  7.65s/it]"
     ]
    },
    {
     "name": "stdout",
     "output_type": "stream",
     "text": [
      "Epoch 9/50, Test Loss: 1.2478805564011737\n",
      "Epoch 10/50, Training Loss: 1.3369410028457642\n"
     ]
    },
    {
     "name": "stderr",
     "output_type": "stream",
     "text": [
      "Epoch:  20%|██        | 10/50 [01:18<05:05,  7.63s/it]"
     ]
    },
    {
     "name": "stdout",
     "output_type": "stream",
     "text": [
      "Epoch 10/50, Test Loss: 1.2162287360543658\n",
      "Epoch 11/50, Training Loss: 1.2930950337409972\n"
     ]
    },
    {
     "name": "stderr",
     "output_type": "stream",
     "text": [
      "Epoch:  22%|██▏       | 11/50 [01:26<05:00,  7.69s/it]"
     ]
    },
    {
     "name": "stdout",
     "output_type": "stream",
     "text": [
      "Epoch 11/50, Test Loss: 1.2023849229144443\n",
      "Epoch 12/50, Training Loss: 1.2436743064880371\n"
     ]
    },
    {
     "name": "stderr",
     "output_type": "stream",
     "text": [
      "Epoch:  24%|██▍       | 12/50 [01:33<04:52,  7.69s/it]"
     ]
    },
    {
     "name": "stdout",
     "output_type": "stream",
     "text": [
      "Epoch 12/50, Test Loss: 1.1826586935930192\n",
      "Epoch 13/50, Training Loss: 1.1991719244003296\n"
     ]
    },
    {
     "name": "stderr",
     "output_type": "stream",
     "text": [
      "Epoch:  26%|██▌       | 13/50 [01:41<04:46,  7.73s/it]"
     ]
    },
    {
     "name": "stdout",
     "output_type": "stream",
     "text": [
      "Epoch 13/50, Test Loss: 1.148213464743013\n",
      "Epoch 14/50, Training Loss: 1.1581504406929015\n"
     ]
    },
    {
     "name": "stderr",
     "output_type": "stream",
     "text": [
      "Epoch:  28%|██▊       | 14/50 [01:48<04:31,  7.55s/it]"
     ]
    },
    {
     "name": "stdout",
     "output_type": "stream",
     "text": [
      "Epoch 14/50, Test Loss: 1.1053162467707494\n",
      "Epoch 15/50, Training Loss: 1.1256217127799988\n"
     ]
    },
    {
     "name": "stderr",
     "output_type": "stream",
     "text": [
      "Epoch:  30%|███       | 15/50 [01:56<04:22,  7.51s/it]"
     ]
    },
    {
     "name": "stdout",
     "output_type": "stream",
     "text": [
      "Epoch 15/50, Test Loss: 1.0706042313272026\n",
      "Epoch 16/50, Training Loss: 1.0882319842338561\n"
     ]
    },
    {
     "name": "stderr",
     "output_type": "stream",
     "text": [
      "Epoch:  32%|███▏      | 16/50 [02:03<04:13,  7.45s/it]"
     ]
    },
    {
     "name": "stdout",
     "output_type": "stream",
     "text": [
      "Epoch 16/50, Test Loss: 1.0468960487918488\n",
      "Epoch 17/50, Training Loss: 1.0644792387008668\n"
     ]
    },
    {
     "name": "stderr",
     "output_type": "stream",
     "text": [
      "Epoch:  34%|███▍      | 17/50 [02:11<04:07,  7.51s/it]"
     ]
    },
    {
     "name": "stdout",
     "output_type": "stream",
     "text": [
      "Epoch 17/50, Test Loss: 1.038558020713223\n",
      "Epoch 18/50, Training Loss: 1.040460859489441\n"
     ]
    },
    {
     "name": "stderr",
     "output_type": "stream",
     "text": [
      "Epoch:  36%|███▌      | 18/50 [02:18<04:00,  7.53s/it]"
     ]
    },
    {
     "name": "stdout",
     "output_type": "stream",
     "text": [
      "Epoch 18/50, Test Loss: 1.0378446336005145\n",
      "Epoch 19/50, Training Loss: 1.023153803062439\n"
     ]
    },
    {
     "name": "stderr",
     "output_type": "stream",
     "text": [
      "Epoch:  38%|███▊      | 19/50 [02:26<03:56,  7.64s/it]"
     ]
    },
    {
     "name": "stdout",
     "output_type": "stream",
     "text": [
      "Epoch 19/50, Test Loss: 1.0083439729775592\n",
      "Epoch 20/50, Training Loss: 1.0040987210273742\n"
     ]
    },
    {
     "name": "stderr",
     "output_type": "stream",
     "text": [
      "Epoch:  40%|████      | 20/50 [02:34<03:48,  7.61s/it]"
     ]
    },
    {
     "name": "stdout",
     "output_type": "stream",
     "text": [
      "Epoch 20/50, Test Loss: 1.0045320110715878\n",
      "Epoch 21/50, Training Loss: 0.9807570755958557\n"
     ]
    },
    {
     "name": "stderr",
     "output_type": "stream",
     "text": [
      "Epoch:  42%|████▏     | 21/50 [02:41<03:40,  7.60s/it]"
     ]
    },
    {
     "name": "stdout",
     "output_type": "stream",
     "text": [
      "Epoch 21/50, Test Loss: 0.9910624968777796\n",
      "Epoch 22/50, Training Loss: 0.9652433482170105\n"
     ]
    },
    {
     "name": "stderr",
     "output_type": "stream",
     "text": [
      "Epoch:  44%|████▍     | 22/50 [02:49<03:33,  7.61s/it]"
     ]
    },
    {
     "name": "stdout",
     "output_type": "stream",
     "text": [
      "Epoch 22/50, Test Loss: 0.9902651450436586\n",
      "Epoch 23/50, Training Loss: 0.944666307926178\n"
     ]
    },
    {
     "name": "stderr",
     "output_type": "stream",
     "text": [
      "Epoch:  46%|████▌     | 23/50 [02:57<03:25,  7.62s/it]"
     ]
    },
    {
     "name": "stdout",
     "output_type": "stream",
     "text": [
      "Epoch 23/50, Test Loss: 0.978852388585449\n",
      "Epoch 24/50, Training Loss: 0.9253449324607849\n"
     ]
    },
    {
     "name": "stderr",
     "output_type": "stream",
     "text": [
      "Epoch:  48%|████▊     | 24/50 [03:04<03:15,  7.53s/it]"
     ]
    },
    {
     "name": "stdout",
     "output_type": "stream",
     "text": [
      "Epoch 24/50, Test Loss: 0.9888619112361009\n",
      "Epoch 25/50, Training Loss: 0.9132364608764648\n"
     ]
    },
    {
     "name": "stderr",
     "output_type": "stream",
     "text": [
      "Epoch:  50%|█████     | 25/50 [03:11<03:07,  7.50s/it]"
     ]
    },
    {
     "name": "stdout",
     "output_type": "stream",
     "text": [
      "Epoch 25/50, Test Loss: 0.9758573387079178\n",
      "Epoch 26/50, Training Loss: 0.9013309961318969\n"
     ]
    },
    {
     "name": "stderr",
     "output_type": "stream",
     "text": [
      "Epoch:  52%|█████▏    | 26/50 [03:19<02:58,  7.43s/it]"
     ]
    },
    {
     "name": "stdout",
     "output_type": "stream",
     "text": [
      "Epoch 26/50, Test Loss: 0.9716933540477874\n",
      "Epoch 27/50, Training Loss: 0.8828020017623901\n"
     ]
    },
    {
     "name": "stderr",
     "output_type": "stream",
     "text": [
      "Epoch:  54%|█████▍    | 27/50 [03:26<02:51,  7.45s/it]"
     ]
    },
    {
     "name": "stdout",
     "output_type": "stream",
     "text": [
      "Epoch 27/50, Test Loss: 0.9788138133705042\n",
      "Epoch 28/50, Training Loss: 0.871782723903656\n"
     ]
    },
    {
     "name": "stderr",
     "output_type": "stream",
     "text": [
      "Epoch:  56%|█████▌    | 28/50 [03:33<02:43,  7.45s/it]"
     ]
    },
    {
     "name": "stdout",
     "output_type": "stream",
     "text": [
      "Epoch 28/50, Test Loss: 0.9844192748616456\n",
      "Epoch 29/50, Training Loss: 0.8627819060325622\n"
     ]
    },
    {
     "name": "stderr",
     "output_type": "stream",
     "text": [
      "Epoch:  58%|█████▊    | 29/50 [03:41<02:34,  7.36s/it]"
     ]
    },
    {
     "name": "stdout",
     "output_type": "stream",
     "text": [
      "Epoch 29/50, Test Loss: 0.9867231883820454\n",
      "Epoch 30/50, Training Loss: 0.8502937023162842\n"
     ]
    },
    {
     "name": "stderr",
     "output_type": "stream",
     "text": [
      "Epoch:  60%|██████    | 30/50 [03:48<02:26,  7.34s/it]"
     ]
    },
    {
     "name": "stdout",
     "output_type": "stream",
     "text": [
      "Epoch 30/50, Test Loss: 0.9681743804816227\n",
      "Epoch 31/50, Training Loss: 0.8473357815742493\n"
     ]
    },
    {
     "name": "stderr",
     "output_type": "stream",
     "text": [
      "Epoch:  62%|██████▏   | 31/50 [03:56<02:21,  7.42s/it]"
     ]
    },
    {
     "name": "stdout",
     "output_type": "stream",
     "text": [
      "Epoch 31/50, Test Loss: 0.9726765767024581\n",
      "Epoch 32/50, Training Loss: 0.8376500226020813\n"
     ]
    },
    {
     "name": "stderr",
     "output_type": "stream",
     "text": [
      "Epoch:  64%|██████▍   | 32/50 [04:03<02:13,  7.39s/it]"
     ]
    },
    {
     "name": "stdout",
     "output_type": "stream",
     "text": [
      "Epoch 32/50, Test Loss: 0.9659915129849865\n",
      "Epoch 33/50, Training Loss: 0.8286060526847839\n"
     ]
    },
    {
     "name": "stderr",
     "output_type": "stream",
     "text": [
      "Epoch:  66%|██████▌   | 33/50 [04:10<02:04,  7.35s/it]"
     ]
    },
    {
     "name": "stdout",
     "output_type": "stream",
     "text": [
      "Epoch 33/50, Test Loss: 0.969345282597147\n",
      "Epoch 34/50, Training Loss: 0.8221348343849182\n"
     ]
    },
    {
     "name": "stderr",
     "output_type": "stream",
     "text": [
      "Epoch:  68%|██████▊   | 34/50 [04:18<01:58,  7.39s/it]"
     ]
    },
    {
     "name": "stdout",
     "output_type": "stream",
     "text": [
      "Epoch 34/50, Test Loss: 0.9567231152467667\n",
      "Epoch 35/50, Training Loss: 0.8166686275482178\n"
     ]
    },
    {
     "name": "stderr",
     "output_type": "stream",
     "text": [
      "Epoch:  70%|███████   | 35/50 [04:25<01:52,  7.47s/it]"
     ]
    },
    {
     "name": "stdout",
     "output_type": "stream",
     "text": [
      "Epoch 35/50, Test Loss: 0.9528245014749515\n",
      "Epoch 36/50, Training Loss: 0.8173114733695984\n"
     ]
    },
    {
     "name": "stderr",
     "output_type": "stream",
     "text": [
      "Epoch:  72%|███████▏  | 36/50 [04:33<01:45,  7.53s/it]"
     ]
    },
    {
     "name": "stdout",
     "output_type": "stream",
     "text": [
      "Epoch 36/50, Test Loss: 0.9649767879467861\n",
      "Epoch 37/50, Training Loss: 0.8122672723770141\n"
     ]
    },
    {
     "name": "stderr",
     "output_type": "stream",
     "text": [
      "Epoch:  74%|███████▍  | 37/50 [04:40<01:36,  7.43s/it]"
     ]
    },
    {
     "name": "stdout",
     "output_type": "stream",
     "text": [
      "Epoch 37/50, Test Loss: 0.9509261694683391\n",
      "Epoch 38/50, Training Loss: 0.804144101524353\n"
     ]
    },
    {
     "name": "stderr",
     "output_type": "stream",
     "text": [
      "Epoch:  76%|███████▌  | 38/50 [04:47<01:28,  7.34s/it]"
     ]
    },
    {
     "name": "stdout",
     "output_type": "stream",
     "text": [
      "Epoch 38/50, Test Loss: 0.9615292264397737\n",
      "Epoch 39/50, Training Loss: 0.8008171996116639\n"
     ]
    },
    {
     "name": "stderr",
     "output_type": "stream",
     "text": [
      "Epoch:  78%|███████▊  | 39/50 [04:55<01:20,  7.32s/it]"
     ]
    },
    {
     "name": "stdout",
     "output_type": "stream",
     "text": [
      "Epoch 39/50, Test Loss: 0.9571188908473701\n",
      "Epoch 40/50, Training Loss: 0.7929607656478882\n"
     ]
    },
    {
     "name": "stderr",
     "output_type": "stream",
     "text": [
      "Epoch:  80%|████████  | 40/50 [05:02<01:13,  7.32s/it]"
     ]
    },
    {
     "name": "stdout",
     "output_type": "stream",
     "text": [
      "Epoch 40/50, Test Loss: 0.9680559589604664\n",
      "Epoch 41/50, Training Loss: 0.7894616479873657\n"
     ]
    },
    {
     "name": "stderr",
     "output_type": "stream",
     "text": [
      "Epoch:  82%|████████▏ | 41/50 [05:09<01:05,  7.30s/it]"
     ]
    },
    {
     "name": "stdout",
     "output_type": "stream",
     "text": [
      "Epoch 41/50, Test Loss: 0.9518353194947455\n",
      "Epoch 42/50, Training Loss: 0.7911290693283081\n"
     ]
    },
    {
     "name": "stderr",
     "output_type": "stream",
     "text": [
      "Epoch:  84%|████████▍ | 42/50 [05:16<00:58,  7.25s/it]"
     ]
    },
    {
     "name": "stdout",
     "output_type": "stream",
     "text": [
      "Epoch 42/50, Test Loss: 0.936617850118382\n",
      "Epoch 43/50, Training Loss: 0.7762517076015473\n"
     ]
    },
    {
     "name": "stderr",
     "output_type": "stream",
     "text": [
      "Epoch:  86%|████████▌ | 43/50 [05:23<00:50,  7.23s/it]"
     ]
    },
    {
     "name": "stdout",
     "output_type": "stream",
     "text": [
      "Epoch 43/50, Test Loss: 0.963142639512469\n",
      "Epoch 44/50, Training Loss: 0.7801306698799133\n"
     ]
    },
    {
     "name": "stderr",
     "output_type": "stream",
     "text": [
      "Epoch:  88%|████████▊ | 44/50 [05:31<00:43,  7.23s/it]"
     ]
    },
    {
     "name": "stdout",
     "output_type": "stream",
     "text": [
      "Epoch 44/50, Test Loss: 0.9560915330413041\n",
      "Epoch 45/50, Training Loss: 0.7733773225784302\n"
     ]
    },
    {
     "name": "stderr",
     "output_type": "stream",
     "text": [
      "Epoch:  90%|█████████ | 45/50 [05:38<00:35,  7.17s/it]"
     ]
    },
    {
     "name": "stdout",
     "output_type": "stream",
     "text": [
      "Epoch 45/50, Test Loss: 0.9569655121511714\n",
      "Epoch 46/50, Training Loss: 0.774902614402771\n"
     ]
    },
    {
     "name": "stderr",
     "output_type": "stream",
     "text": [
      "Epoch:  92%|█████████▏| 46/50 [05:45<00:28,  7.17s/it]"
     ]
    },
    {
     "name": "stdout",
     "output_type": "stream",
     "text": [
      "Epoch 46/50, Test Loss: 0.9580431891854402\n",
      "Epoch 47/50, Training Loss: 0.7743651621818542\n"
     ]
    },
    {
     "name": "stderr",
     "output_type": "stream",
     "text": [
      "Epoch:  94%|█████████▍| 47/50 [05:52<00:21,  7.19s/it]"
     ]
    },
    {
     "name": "stdout",
     "output_type": "stream",
     "text": [
      "Epoch 47/50, Test Loss: 0.9471551195071761\n",
      "Epoch 48/50, Training Loss: 0.7775798803329468\n"
     ]
    },
    {
     "name": "stderr",
     "output_type": "stream",
     "text": [
      "Epoch:  96%|█████████▌| 48/50 [05:59<00:14,  7.18s/it]"
     ]
    },
    {
     "name": "stdout",
     "output_type": "stream",
     "text": [
      "Epoch 48/50, Test Loss: 0.9489935002509197\n",
      "Epoch 00048: reducing learning rate of group 0 to 1.0000e-04.\n",
      "Epoch 49/50, Training Loss: 0.7497771289825439\n"
     ]
    },
    {
     "name": "stderr",
     "output_type": "stream",
     "text": [
      "Epoch:  98%|█████████▊| 49/50 [06:06<00:07,  7.15s/it]"
     ]
    },
    {
     "name": "stdout",
     "output_type": "stream",
     "text": [
      "Epoch 49/50, Test Loss: 0.9498444199562073\n",
      "Epoch 50/50, Training Loss: 0.7524298106193542\n"
     ]
    },
    {
     "name": "stderr",
     "output_type": "stream",
     "text": [
      "Epoch: 100%|██████████| 50/50 [06:14<00:00,  7.48s/it]"
     ]
    },
    {
     "name": "stdout",
     "output_type": "stream",
     "text": [
      "Epoch 50/50, Test Loss: 0.941826886432186\n"
     ]
    },
    {
     "name": "stderr",
     "output_type": "stream",
     "text": [
      "\n"
     ]
    }
   ],
   "source": [
    "# Training loop\n",
    "train_losses = []\n",
    "test_losses = []\n",
    "\n",
    "for epoch in tqdm(range(num_epochs), desc='Epoch'):\n",
    "    model.train()\n",
    "    train_loss = 0\n",
    "    for user_ids, item_ids, ratings in train_loader:\n",
    "        user_ids = user_ids.to(device, dtype=torch.long)\n",
    "        item_ids = item_ids.to(device, dtype=torch.long)\n",
    "        ratings = ratings.to(device, dtype=torch.float)\n",
    "\n",
    "        optimizer.zero_grad()\n",
    "        outputs = model(user_ids, item_ids)\n",
    "        loss = criterion(outputs, ratings)\n",
    "        loss.backward()\n",
    "        optimizer.step()\n",
    "\n",
    "        train_loss += loss.item()\n",
    "\n",
    "    train_loss /= len(train_loader)\n",
    "    train_losses.append(train_loss)\n",
    "    print(f'Epoch {epoch+1}/{num_epochs}, Training Loss: {train_loss}')\n",
    "\n",
    "    # Evaluation loop\n",
    "    model.eval()\n",
    "    test_loss = 0\n",
    "    with torch.no_grad():\n",
    "        for user_ids, item_ids, ratings in test_loader:\n",
    "            user_ids = user_ids.to(device, dtype=torch.long)\n",
    "            item_ids = item_ids.to(device, dtype=torch.long)\n",
    "            ratings = ratings.to(device, dtype=torch.float)\n",
    "\n",
    "            outputs = model(user_ids, item_ids)\n",
    "            loss = criterion(outputs, ratings)\n",
    "\n",
    "            test_loss += loss.item()\n",
    "\n",
    "    test_loss /= len(test_loader)\n",
    "    test_losses.append(test_loss)\n",
    "    print(f'Epoch {epoch+1}/{num_epochs}, Test Loss: {test_loss}')\n",
    "\n",
    "    # Update the scheduler and check for early stopping\n",
    "    scheduler.step(test_loss)\n",
    "\n",
    "    if test_loss < best_test_loss:\n",
    "        best_test_loss = test_loss\n",
    "        epochs_without_improvement = 0\n",
    "    else:\n",
    "        epochs_without_improvement += 1\n",
    "\n",
    "    if epochs_without_improvement >= early_stopping_patience:\n",
    "        print(f'Early stopping after {early_stopping_patience} epochs without improvement')\n",
    "        break\n"
   ]
  },
  {
   "cell_type": "code",
   "execution_count": 15,
   "metadata": {},
   "outputs": [
    {
     "data": {
      "image/png": "[encoded data removed]",
      "text/plain": [
       "<Figure size 640x480 with 1 Axes>"
      ]
     },
     "metadata": {},
     "output_type": "display_data"
    }
   ],
   "source": [
    "plt.plot(train_losses, label='Training Loss')\n",
    "plt.plot(test_losses, label='Test Loss')\n",
    "plt.xlabel('Epoch')\n",
    "plt.ylabel('Loss')\n",
    "plt.legend()\n",
    "plt.show()"
   ]
  },
  {
   "attachments": {},
   "cell_type": "markdown",
   "metadata": {},
   "source": [
    "# Outcome Visualization"
   ]
  },
  {
   "cell_type": "code",
   "execution_count": 16,
   "metadata": {},
   "outputs": [
    {
     "name": "stdout",
     "output_type": "stream",
     "text": [
      "Train Dataset Length:  80000\n",
      "Test Dataset Length:  20000\n"
     ]
    }
   ],
   "source": [
    "print('Train Dataset Length: ', len(train_dataset))\n",
    "print('Test Dataset Length: ', len(test_dataset))"
   ]
  },
  {
   "cell_type": "code",
   "execution_count": 17,
   "metadata": {},
   "outputs": [
    {
     "name": "stdout",
     "output_type": "stream",
     "text": [
      "User: 505, Item: 403, Actual Rating: 2, Predicted Rating: 2.226226806640625\n",
      "User: 188, Item: 360, Actual Rating: 4, Predicted Rating: 3.710909843444824\n",
      "User: 229, Item: 487, Actual Rating: 3, Predicted Rating: 3.798381805419922\n",
      "User: 102, Item: 114, Actual Rating: 3, Predicted Rating: 3.0368387699127197\n",
      "User: 153, Item: 311, Actual Rating: 3, Predicted Rating: 3.980167865753174\n"
     ]
    }
   ],
   "source": [
    "for _ in range(5):\n",
    "    user_id, item_id, rating = random.choice(test_dataset)\n",
    "    user_id = torch.tensor([user_id]).to(device)\n",
    "    item_id = torch.tensor([item_id]).to(device)\n",
    "    rating = torch.tensor([rating]).to(device)\n",
    "    output = model(user_id, item_id)\n",
    "    print(f'User: {user_id.item()}, Item: {item_id.item()}, Actual Rating: {rating.item()}, Predicted Rating: {output.item()}')"
   ]
  },
  {
   "attachments": {},
   "cell_type": "markdown",
   "metadata": {},
   "source": [
    "# Recommender Test"
   ]
  },
  {
   "cell_type": "code",
   "execution_count": 18,
   "metadata": {},
   "outputs": [
    {
     "data": {
      "text/html": [
       "<div>\n",
       "<style scoped>\n",
       "    .dataframe tbody tr th:only-of-type {\n",
       "        vertical-align: middle;\n",
       "    }\n",
       "\n",
       "    .dataframe tbody tr th {\n",
       "        vertical-align: top;\n",
       "    }\n",
       "\n",
       "    .dataframe thead th {\n",
       "        text-align: right;\n",
       "    }\n",
       "</style>\n",
       "<table border=\"1\" class=\"dataframe\">\n",
       "  <thead>\n",
       "    <tr style=\"text-align: right;\">\n",
       "      <th></th>\n",
       "      <th>title</th>\n",
       "      <th>genres</th>\n",
       "    </tr>\n",
       "    <tr>\n",
       "      <th>movieId</th>\n",
       "      <th></th>\n",
       "      <th></th>\n",
       "    </tr>\n",
       "  </thead>\n",
       "  <tbody>\n",
       "    <tr>\n",
       "      <th>1</th>\n",
       "      <td>Toy Story (1995)</td>\n",
       "      <td>Adventure|Animation|Children|Comedy|Fantasy</td>\n",
       "    </tr>\n",
       "    <tr>\n",
       "      <th>2</th>\n",
       "      <td>Jumanji (1995)</td>\n",
       "      <td>Adventure|Children|Fantasy</td>\n",
       "    </tr>\n",
       "    <tr>\n",
       "      <th>3</th>\n",
       "      <td>Grumpier Old Men (1995)</td>\n",
       "      <td>Comedy|Romance</td>\n",
       "    </tr>\n",
       "    <tr>\n",
       "      <th>4</th>\n",
       "      <td>Waiting to Exhale (1995)</td>\n",
       "      <td>Comedy|Drama|Romance</td>\n",
       "    </tr>\n",
       "    <tr>\n",
       "      <th>5</th>\n",
       "      <td>Father of the Bride Part II (1995)</td>\n",
       "      <td>Comedy</td>\n",
       "    </tr>\n",
       "  </tbody>\n",
       "</table>\n",
       "</div>"
      ],
      "text/plain": [
       "                                      title  \\\n",
       "movieId                                       \n",
       "1                          Toy Story (1995)   \n",
       "2                            Jumanji (1995)   \n",
       "3                   Grumpier Old Men (1995)   \n",
       "4                  Waiting to Exhale (1995)   \n",
       "5        Father of the Bride Part II (1995)   \n",
       "\n",
       "                                              genres  \n",
       "movieId                                               \n",
       "1        Adventure|Animation|Children|Comedy|Fantasy  \n",
       "2                         Adventure|Children|Fantasy  \n",
       "3                                     Comedy|Romance  \n",
       "4                               Comedy|Drama|Romance  \n",
       "5                                             Comedy  "
      ]
     },
     "execution_count": 18,
     "metadata": {},
     "output_type": "execute_result"
    }
   ],
   "source": [
    "movies = pd.read_csv('ml-100k/movies.csv', index_col='movieId')\n",
    "movies.head()"
   ]
  },
  {
   "cell_type": "code",
   "execution_count": 19,
   "metadata": {},
   "outputs": [
    {
     "data": {
      "text/plain": [
       "'Toy Story (1995)'"
      ]
     },
     "execution_count": 19,
     "metadata": {},
     "output_type": "execute_result"
    }
   ],
   "source": [
    "movies.loc[[1]]['title'].values[0]"
   ]
  },
  {
   "attachments": {},
   "cell_type": "markdown",
   "metadata": {},
   "source": [
    "### New User Test"
   ]
  },
  {
   "cell_type": "code",
   "execution_count": 20,
   "metadata": {},
   "outputs": [
    {
     "name": "stdout",
     "output_type": "stream",
     "text": [
      "Top 10 Recommendations:\n",
      "Movie: Dangerous Minds (1995), Item ID: 31, Predicted Rating: 3.8146860599517822\n",
      "Movie: Heat (1995), Item ID: 6, Predicted Rating: 3.802922248840332\n",
      "Movie: Toy Story (1995), Item ID: 1, Predicted Rating: 3.7207744121551514\n",
      "Movie: Dracula: Dead and Loving It (1995), Item ID: 12, Predicted Rating: 3.720365524291992\n",
      "Movie: Othello (1995), Item ID: 26, Predicted Rating: 3.714259624481201\n",
      "Movie: GoldenEye (1995), Item ID: 10, Predicted Rating: 3.671403408050537\n",
      "Movie: Get Shorty (1995), Item ID: 21, Predicted Rating: 3.5600483417510986\n",
      "Movie: Assassins (1995), Item ID: 23, Predicted Rating: 3.5440378189086914\n",
      "Movie: Powder (1995), Item ID: 24, Predicted Rating: 3.5376064777374268\n",
      "Movie: Sense and Sensibility (1995), Item ID: 17, Predicted Rating: 3.5355310440063477\n"
     ]
    }
   ],
   "source": [
    "# Create X random interactions\n",
    "num_interaction = 10\n",
    "new_user_id = len(user_ids)\n",
    "random_item_ids = np.random.choice(item_ids.cpu(), num_interaction)\n",
    "random_ratings = np.random.randint(1, 6, num_interaction)\n",
    "\n",
    "# Predict for new user\n",
    "model.eval()\n",
    "all_item_ids = torch.arange(len(item_ids)).to(device)\n",
    "user_ids = torch.full((len(item_ids),), new_user_id).to(device, dtype=torch.long)\n",
    "with torch.no_grad():\n",
    "    outputs = model(user_ids, all_item_ids).cpu().numpy()\n",
    "\n",
    "# Get the top 10 recommendations\n",
    "top_10 = np.argsort(outputs)[::-1][:10]\n",
    "print('Top 10 Recommendations:')\n",
    "for item_id in top_10:\n",
    "    movie = movies.loc[[item_id]]['title'].values[0]\n",
    "    print(f'Movie: {movie}, Item ID: {item_id}, Predicted Rating: {outputs[item_id]}')\n"
   ]
  },
  {
   "attachments": {},
   "cell_type": "markdown",
   "metadata": {},
   "source": [
    "### New Movie Test"
   ]
  },
  {
   "cell_type": "code",
   "execution_count": 21,
   "metadata": {},
   "outputs": [
    {
     "name": "stdout",
     "output_type": "stream",
     "text": [
      "Top 10 Users to recommend to:\n",
      "User ID: 18, Predicted Rating: 4.03505277633667\n",
      "User ID: 2, Predicted Rating: 4.024545669555664\n",
      "User ID: 1, Predicted Rating: 4.02407169342041\n",
      "User ID: 5, Predicted Rating: 4.002097129821777\n",
      "User ID: 12, Predicted Rating: 3.999988079071045\n",
      "User ID: 3, Predicted Rating: 3.998711585998535\n",
      "User ID: 31, Predicted Rating: 3.989100933074951\n",
      "User ID: 9, Predicted Rating: 3.9579617977142334\n",
      "User ID: 15, Predicted Rating: 3.942776918411255\n",
      "User ID: 20, Predicted Rating: 3.942246675491333\n"
     ]
    }
   ],
   "source": [
    "# Create X random interactions\n",
    "num_interaction = 10\n",
    "new_item_id = len(item_ids)\n",
    "random_user_ids = np.random.choice(user_ids.cpu(), num_interaction)\n",
    "random_ratings = np.random.randint(1, 6, num_interaction)\n",
    "\n",
    "# Predict for new item\n",
    "model.eval()\n",
    "all_user_ids = torch.arange(len(user_ids)).to(device)\n",
    "item_ids = torch.full((len(user_ids),), new_item_id).to(device, dtype=torch.long)\n",
    "with torch.no_grad():\n",
    "    outputs = model(all_user_ids, item_ids).cpu().numpy()\n",
    "\n",
    "# Get the top 10 recommendations\n",
    "top_10 = np.argsort(outputs)[::-1][:10]\n",
    "print('Top 10 Users to recommend to:')\n",
    "for user_id in top_10:\n",
    "    print(f'User ID: {user_id}, Predicted Rating: {outputs[user_id]}')"
   ]
  }
 ],
 "metadata": {
  "kernelspec": {
   "display_name": "Python 3",
   "language": "python",
   "name": "python3"
  },
  "language_info": {
   "codemirror_mode": {
    "name": "ipython",
    "version": 3
   },
   "file_extension": ".py",
   "mimetype": "text/x-python",
   "name": "python",
   "nbconvert_exporter": "python",
   "pygments_lexer": "ipython3",
   "version": "3.9.13"
  },
  "orig_nbformat": 4
 },
 "nbformat": 4,
 "nbformat_minor": 2
}
